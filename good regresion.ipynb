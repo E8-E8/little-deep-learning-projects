{
 "cells": [
  {
   "cell_type": "code",
   "execution_count": 2,
   "metadata": {},
   "outputs": [],
   "source": [
    "import tensorflow as tf\n",
    "import numpy as np\n",
    "import matplotlib.pyplot as plt\n",
    "import pandas as pd\n"
   ]
  },
  {
   "cell_type": "code",
   "execution_count": 3,
   "metadata": {},
   "outputs": [],
   "source": [
    "X = tf.cast(tf.range(-100, 100, 4), dtype=tf.float32)\n",
    "\n",
    "y = X + 10\n",
    "\n",
    "X_train = X[:40]  # 80% of the data\n",
    "y_train = y[:40]\n",
    "\n",
    "\n",
    "X_test = X[40:]  # 20% of the data\n",
    "y_test = y[40:]\n"
   ]
  },
  {
   "cell_type": "code",
   "execution_count": 7,
   "metadata": {},
   "outputs": [],
   "source": [
    "tf.random.set_seed(42)\n",
    "\n",
    "model = tf.keras.Sequential([\n",
    "    tf.keras.layers.Dense(\n",
    "        50, input_shape=[1], name=\"input\", activation=None),\n",
    "    tf.keras.layers.Dense(30, input_shape=[1], name=\"hidded1\"),\n",
    "    tf.keras.layers.Dense(1, input_shape=[1], name=\"output\")\n",
    "], name=\"model\")\n",
    "\n",
    "\n",
    "model.compile(loss=tf.keras.losses.mae,\n",
    "              optimizer=tf.keras.optimizers.Adam(learning_rate=0.01),\n",
    "              metrics=['mae'])\n",
    "\n",
    "\n",
    "model.fit(X_train, y_train, epochs=1000, verbose=0)\n",
    "model.save(\"models/good-regresion-of-10-numbers(hdf5).h5\")\n",
    "\n",
    "y_pred = model.predict(X_test)\n",
    "\n",
    "\n"
   ]
  },
  {
   "cell_type": "code",
   "execution_count": 5,
   "metadata": {},
   "outputs": [],
   "source": [
    "def plot_predictions(train_data=X_train,\n",
    "\n",
    "                     train_labels=y_train,\n",
    "\n",
    "                     test_data=X_test, test_labels=y_test, predictions=y_pred):\n",
    "\n",
    "    plt.figure(figsize=(10, 7))\n",
    "\n",
    "    plt.scatter(train_data, train_labels, c='b', label='Training data')\n",
    "\n",
    "    plt.scatter(test_data, test_labels, c='g', label='Testing data')\n",
    "    # plot model's predictions in red\n",
    "\n",
    "    plt.scatter(test_data, predictions, c='r', label='Predictions')\n",
    "\n",
    "    plt.legend()\n",
    "\n",
    "    plt.show()\n",
    "\n",
    "\n",
    "def mae(y_true, y_pred):\n",
    "    return tf.metrics.mean_absolute_error(y_true, tf.squeeze(y_pred))\n",
    "\n",
    "\n",
    "def mse(y_true, y_pred):\n",
    "    return tf.metrics.mean_squared_error(y_true, tf.squeeze(y_pred))\n"
   ]
  },
  {
   "cell_type": "code",
   "execution_count": null,
   "metadata": {},
   "outputs": [],
   "source": [
    "plot_predictions()\n",
    "mae_1 = mae(y_test, y_pred)\n",
    "mse_1 = mse(y_test, y_pred)\n",
    "mae_1, mse_1\n",
    "\n",
    "model_results = [[\"model\", mae_1.numpy(), mse_1.numpy()]]\n",
    "results = pd.DataFrame(model_results, columns=[\"model\", \"mae\", \"mse\"])\n",
    "results\n"
   ]
  },
  {
   "cell_type": "code",
   "execution_count": null,
   "metadata": {},
   "outputs": [],
   "source": [
    "loaded_model = tf.keras.models.load_model(\"./models/good-regresion-of-10-numbers\")\n",
    "loaded_model.summary()\n"
   ]
  },
  {
   "cell_type": "code",
   "execution_count": null,
   "metadata": {},
   "outputs": [],
   "source": [
    "model_preds = model.predict(X_train)\n",
    "saved_model_preds = loaded_model.predict(X_train)\n",
    "\n",
    "saved_model_preds == model_preds\n"
   ]
  }
 ],
 "metadata": {
  "interpreter": {
   "hash": "72d6dc838d4b151d6904dd7f80acd39f07dc5621f6c4c61b5fbd7372ea409ed9"
  },
  "kernelspec": {
   "display_name": "Python 3.10.0 ('tf2')",
   "language": "python",
   "name": "python3"
  },
  "language_info": {
   "codemirror_mode": {
    "name": "ipython",
    "version": 3
   },
   "file_extension": ".py",
   "mimetype": "text/x-python",
   "name": "python",
   "nbconvert_exporter": "python",
   "pygments_lexer": "ipython3",
   "version": "3.10.4"
  },
  "orig_nbformat": 4
 },
 "nbformat": 4,
 "nbformat_minor": 2
}
